{
 "cells": [
  {
   "cell_type": "code",
   "execution_count": 3,
   "id": "234458bd-a261-4be2-9152-ccf7df054743",
   "metadata": {},
   "outputs": [
    {
     "name": "stdin",
     "output_type": "stream",
     "text": [
      "enter first no 2\n",
      "enter second no 4\n",
      "enter third no 7\n"
     ]
    },
    {
     "name": "stdout",
     "output_type": "stream",
     "text": [
      "print the no 2\n"
     ]
    }
   ],
   "source": [
    "a=input(\"enter first no\")\n",
    "b=input(\"enter second no\")\n",
    "c=input(\"enter third no\")\n",
    "if(a<b):\n",
    " print(\"print the no\",a)\n",
    "elif(b<c):\n",
    " print(\"print the no\",b)\n",
    "else:\n",
    " print(\"print the no\",c)"
   ]
  },
  {
   "cell_type": "code",
   "execution_count": null,
   "id": "5ecf904d-0fa6-4c9d-b442-3ac845c8299f",
   "metadata": {},
   "outputs": [],
   "source": []
  },
  {
   "cell_type": "code",
   "execution_count": null,
   "id": "9f8a77a5-592a-45d2-92f2-0ff8e32c85ae",
   "metadata": {},
   "outputs": [],
   "source": []
  },
  {
   "cell_type": "code",
   "execution_count": null,
   "id": "2342fafc-33b8-45f1-8e2b-a8bed1226b08",
   "metadata": {},
   "outputs": [],
   "source": []
  }
 ],
 "metadata": {
  "kernelspec": {
   "display_name": "Python 3 (ipykernel)",
   "language": "python",
   "name": "python3"
  },
  "language_info": {
   "codemirror_mode": {
    "name": "ipython",
    "version": 3
   },
   "file_extension": ".py",
   "mimetype": "text/x-python",
   "name": "python",
   "nbconvert_exporter": "python",
   "pygments_lexer": "ipython3",
   "version": "3.10.11"
  }
 },
 "nbformat": 4,
 "nbformat_minor": 5
}
