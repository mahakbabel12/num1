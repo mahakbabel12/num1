{
 "cells": [
  {
   "cell_type": "code",
   "execution_count": 4,
   "id": "324bdd3b-08f3-4c6b-9a7b-6eb1ba8d1b21",
   "metadata": {},
   "outputs": [
    {
     "name": "stdout",
     "output_type": "stream",
     "text": [
      "apple\n",
      "mango\n"
     ]
    }
   ],
   "source": [
    "fruits=[\"apple\",\"mango\"]\n",
    "for fruit in fruits:\n",
    "    print(fruit)"
   ]
  },
  {
   "cell_type": "code",
   "execution_count": 5,
   "id": "48da8c42-872b-4fbf-b99c-277396b23785",
   "metadata": {},
   "outputs": [
    {
     "data": {
      "text/plain": [
       "'m'"
      ]
     },
     "execution_count": 5,
     "metadata": {},
     "output_type": "execute_result"
    }
   ],
   "source": [
    "fruit[0]"
   ]
  },
  {
   "cell_type": "code",
   "execution_count": 6,
   "id": "099e1426-8e73-4d66-bb49-3479705154cd",
   "metadata": {},
   "outputs": [
    {
     "data": {
      "text/plain": [
       "'apple'"
      ]
     },
     "execution_count": 6,
     "metadata": {},
     "output_type": "execute_result"
    }
   ],
   "source": [
    "fruits[0]"
   ]
  },
  {
   "cell_type": "code",
   "execution_count": 8,
   "id": "45b06dc0-c912-447b-a243-2a4a7e9ac1e2",
   "metadata": {},
   "outputs": [],
   "source": [
    "fruits[1]=\"orange\""
   ]
  },
  {
   "cell_type": "code",
   "execution_count": 9,
   "id": "961dd63b-916e-4372-94c0-839614dbb575",
   "metadata": {},
   "outputs": [
    {
     "name": "stdout",
     "output_type": "stream",
     "text": [
      "['apple', 'orange']\n"
     ]
    }
   ],
   "source": [
    "print(fruits)"
   ]
  },
  {
   "cell_type": "code",
   "execution_count": 10,
   "id": "cdb5553f-bb16-449d-bfc1-875fdef7b9dc",
   "metadata": {},
   "outputs": [
    {
     "name": "stdout",
     "output_type": "stream",
     "text": [
      "0\n",
      "1\n",
      "2\n",
      "3\n",
      "4\n",
      "5\n"
     ]
    }
   ],
   "source": [
    "counter=0\n",
    "while counter <=5:\n",
    "    print(counter)\n",
    "    counter=counter+1"
   ]
  },
  {
   "cell_type": "code",
   "execution_count": 18,
   "id": "d6bbc369-a12f-4876-8d43-fe73b579dec9",
   "metadata": {},
   "outputs": [
    {
     "name": "stdout",
     "output_type": "stream",
     "text": [
      "3\n"
     ]
    }
   ],
   "source": [
    "for i in range(10):\n",
    "    if i == 3:\n",
    "     break\n",
    "    if i == 1:\n",
    "     continue\n",
    "print(i)"
   ]
  },
  {
   "cell_type": "raw",
   "id": "f6e42436-abcf-4a85-8720-6fb9a3ea9c7b",
   "metadata": {},
   "source": [
    "num_list=[int(input(\"enter an integer:\"))for _ in range(5)]\n",
    "print(num_list)"
   ]
  },
  {
   "cell_type": "markdown",
   "id": "53d87aad-ae41-49c3-bb64-62b9d70f7cb6",
   "metadata": {},
   "source": [
    "input_string = input(\"enter multiple inputs with multiple spaces\")\n",
    "input_list=input_string.split()\n",
    "numbers=[int(num) for num in input_list]\n",
    "numbers"
   ]
  },
  {
   "cell_type": "code",
   "execution_count": 33,
   "id": "76c7e039-8510-41fc-a50e-61cd0c6ba503",
   "metadata": {},
   "outputs": [
    {
     "name": "stdin",
     "output_type": "stream",
     "text": [
      "enter the num: 1 2 3\n"
     ]
    },
    {
     "data": {
      "text/plain": [
       "6"
      ]
     },
     "execution_count": 33,
     "metadata": {},
     "output_type": "execute_result"
    }
   ],
   "source": [
    "num1=list(map(int,input(\"enter the num:\").split()))\n",
    "sum(num1)\n"
   ]
  },
  {
   "cell_type": "code",
   "execution_count": null,
   "id": "5150b62c-aa80-4fca-ae21-c435b4384738",
   "metadata": {},
   "outputs": [],
   "source": []
  },
  {
   "cell_type": "code",
   "execution_count": null,
   "id": "39333d99-b8c5-45f5-b8fe-0c15195dd8b6",
   "metadata": {},
   "outputs": [],
   "source": []
  },
  {
   "cell_type": "code",
   "execution_count": null,
   "id": "bcad433c-2e39-4569-829d-b5d75345a9b1",
   "metadata": {},
   "outputs": [],
   "source": []
  },
  {
   "cell_type": "markdown",
   "id": "b5cffc87-f86a-498e-81bd-091c7dca4264",
   "metadata": {},
   "source": []
  },
  {
   "cell_type": "code",
   "execution_count": 34,
   "id": "5f7536a4-33a5-4fb2-a0ae-eca010de44ca",
   "metadata": {},
   "outputs": [
    {
     "name": "stdin",
     "output_type": "stream",
     "text": [
      "enter char: my name \n"
     ]
    },
    {
     "data": {
      "text/plain": [
       "2"
      ]
     },
     "execution_count": 34,
     "metadata": {},
     "output_type": "execute_result"
    }
   ],
   "source": [
    "n=input(\"enter char:\")\n",
    "n1=n.split()\n",
    "len(n1)"
   ]
  },
  {
   "cell_type": "code",
   "execution_count": null,
   "id": "246d676e-43a2-41e8-93bc-08cfadf678be",
   "metadata": {},
   "outputs": [],
   "source": []
  },
  {
   "cell_type": "code",
   "execution_count": null,
   "id": "5c09f33d-3759-4881-8677-dfb1cbf39ef1",
   "metadata": {},
   "outputs": [],
   "source": []
  },
  {
   "cell_type": "code",
   "execution_count": 31,
   "id": "75befd89-7985-4f3a-85c9-acbd3086804b",
   "metadata": {},
   "outputs": [
    {
     "name": "stdin",
     "output_type": "stream",
     "text": [
      "enter the num 1 2 5 8\n"
     ]
    },
    {
     "name": "stdout",
     "output_type": "stream",
     "text": [
      "8\n",
      "1\n"
     ]
    }
   ],
   "source": [
    "num3=list(map(int,input(\"enter the num\").split()))\n",
    "print(max(num3))\n",
    "print(min(num3))"
   ]
  },
  {
   "cell_type": "code",
   "execution_count": null,
   "id": "3f21522f-b6d1-4342-87c8-91a9e0d766ba",
   "metadata": {},
   "outputs": [],
   "source": []
  },
  {
   "cell_type": "code",
   "execution_count": 41,
   "id": "25841993-ecb1-4353-a9f8-5a12d51a3ed7",
   "metadata": {},
   "outputs": [
    {
     "name": "stdin",
     "output_type": "stream",
     "text": [
      "enter the number: 3 4 5\n"
     ]
    },
    {
     "name": "stdout",
     "output_type": "stream",
     "text": [
      "9\n",
      "64\n",
      "25\n"
     ]
    }
   ],
   "source": [
    "n=list(map(int,input(\"enter the number:\").split()))\n",
    "for i in n:\n",
    "    if i%2!=0:\n",
    "        print(i*i)\n",
    "    else:\n",
    "        print(i**3)\n",
    "    "
   ]
  },
  {
   "cell_type": "code",
   "execution_count": null,
   "id": "8b2dfa84-5b9b-4632-a9d1-1e378b174e3f",
   "metadata": {},
   "outputs": [],
   "source": []
  },
  {
   "cell_type": "code",
   "execution_count": 42,
   "id": "4c4af8c9-1515-46ef-b03f-6760c2aa2f32",
   "metadata": {},
   "outputs": [
    {
     "name": "stdin",
     "output_type": "stream",
     "text": [
      "enter the sentence : niki\n",
      "enter the sentence : jain\n",
      "enter the sentence : is\n",
      "enter the sentence : a\n",
      "enter the sentence : girl\n"
     ]
    }
   ],
   "source": [
    "sentence=[input(\"enter the sentence :\") for _ in range(5)]"
   ]
  },
  {
   "cell_type": "code",
   "execution_count": null,
   "id": "677f144f-6b86-42af-a9b1-6e1fc3e50f20",
   "metadata": {},
   "outputs": [],
   "source": []
  },
  {
   "cell_type": "code",
   "execution_count": 48,
   "id": "98647555-c528-4e8c-b0cc-df16b1b0b05d",
   "metadata": {},
   "outputs": [
    {
     "name": "stdin",
     "output_type": "stream",
     "text": [
      "enter the sentence mahak jain\n",
      "enter the word jain\n"
     ]
    },
    {
     "name": "stdout",
     "output_type": "stream",
     "text": [
      "true\n"
     ]
    }
   ],
   "source": [
    "sentence=[input(\"enter the sentence\")]\n",
    "word=input(\"enter the word\")\n",
    "for i in sentence:\n",
    "    if word in i:\n",
    "        print(\"true\")\n",
    "    else:\n",
    "        print(\"false\")\n"
   ]
  },
  {
   "cell_type": "code",
   "execution_count": null,
   "id": "81d2df92-db2c-4bba-8fad-f4237520ff66",
   "metadata": {},
   "outputs": [],
   "source": []
  },
  {
   "cell_type": "code",
   "execution_count": null,
   "id": "bccba640-4a6d-4211-9f22-fb7e51928a2f",
   "metadata": {},
   "outputs": [],
   "source": []
  },
  {
   "cell_type": "code",
   "execution_count": null,
   "id": "65c7783a-a0ac-4de8-bb0f-52c023369531",
   "metadata": {},
   "outputs": [],
   "source": []
  },
  {
   "cell_type": "code",
   "execution_count": null,
   "id": "41670542-0871-426d-9681-82e297b461d3",
   "metadata": {},
   "outputs": [],
   "source": []
  },
  {
   "cell_type": "code",
   "execution_count": null,
   "id": "00ce15b3-54db-41ae-95ee-44fffd5de7eb",
   "metadata": {},
   "outputs": [],
   "source": []
  },
  {
   "cell_type": "code",
   "execution_count": null,
   "id": "cfb0d950-c01b-4da2-81c9-bc2903914505",
   "metadata": {},
   "outputs": [],
   "source": []
  },
  {
   "cell_type": "code",
   "execution_count": null,
   "id": "e433fa2f-ff2f-4498-96c6-5e469cb7902f",
   "metadata": {},
   "outputs": [],
   "source": []
  },
  {
   "cell_type": "code",
   "execution_count": null,
   "id": "f89ad975-a96f-40f0-b0c6-2fa78b85d002",
   "metadata": {},
   "outputs": [],
   "source": []
  },
  {
   "cell_type": "code",
   "execution_count": null,
   "id": "53d99b40-7ebf-47fb-95d7-da60dfa96c63",
   "metadata": {},
   "outputs": [],
   "source": []
  },
  {
   "cell_type": "code",
   "execution_count": null,
   "id": "47517ae4-2c97-471b-8557-7bffaa04b661",
   "metadata": {},
   "outputs": [],
   "source": []
  },
  {
   "cell_type": "code",
   "execution_count": null,
   "id": "414b43bc-92dd-4989-a7ef-590dd8332dbf",
   "metadata": {},
   "outputs": [],
   "source": []
  },
  {
   "cell_type": "code",
   "execution_count": null,
   "id": "0476fbc3-8673-4e1e-b24a-548a1cb2b950",
   "metadata": {},
   "outputs": [],
   "source": []
  },
  {
   "cell_type": "code",
   "execution_count": null,
   "id": "410d9737-9d6f-4e7a-804c-74beccb7a451",
   "metadata": {},
   "outputs": [],
   "source": []
  },
  {
   "cell_type": "code",
   "execution_count": null,
   "id": "872da075-95f8-4020-9195-ad95f9fdf421",
   "metadata": {},
   "outputs": [],
   "source": []
  },
  {
   "cell_type": "code",
   "execution_count": null,
   "id": "54654dfa-56cd-44de-b22f-76754f5b3077",
   "metadata": {},
   "outputs": [],
   "source": []
  },
  {
   "cell_type": "code",
   "execution_count": null,
   "id": "74fa8f5f-3e0f-412d-8ceb-640db6a7bafd",
   "metadata": {},
   "outputs": [],
   "source": []
  },
  {
   "cell_type": "code",
   "execution_count": null,
   "id": "9763f047-721b-40d4-8edd-01a705942068",
   "metadata": {},
   "outputs": [],
   "source": []
  },
  {
   "cell_type": "code",
   "execution_count": null,
   "id": "f8c3754d-f739-4887-a620-891a8e89953b",
   "metadata": {},
   "outputs": [],
   "source": []
  },
  {
   "cell_type": "code",
   "execution_count": null,
   "id": "3647b00f-193f-4850-a36a-ab123a48f93b",
   "metadata": {},
   "outputs": [],
   "source": []
  },
  {
   "cell_type": "code",
   "execution_count": null,
   "id": "78c375d8-c577-4e78-a1da-63861f794023",
   "metadata": {},
   "outputs": [],
   "source": []
  },
  {
   "cell_type": "code",
   "execution_count": null,
   "id": "1e346276-0e45-4f22-8e3b-27c7258797f7",
   "metadata": {},
   "outputs": [],
   "source": []
  },
  {
   "cell_type": "code",
   "execution_count": null,
   "id": "96b8e012-82d6-4ffd-9644-22831deb6907",
   "metadata": {},
   "outputs": [],
   "source": []
  },
  {
   "cell_type": "code",
   "execution_count": null,
   "id": "7994bb8a-7c1c-4511-ae5c-831b8a7185f6",
   "metadata": {},
   "outputs": [],
   "source": []
  },
  {
   "cell_type": "code",
   "execution_count": null,
   "id": "9b7dc416-337a-4516-b4ea-84fb8d91d4ea",
   "metadata": {},
   "outputs": [],
   "source": []
  },
  {
   "cell_type": "code",
   "execution_count": null,
   "id": "29e04e6a-76b0-4eeb-a041-71eff1637476",
   "metadata": {},
   "outputs": [],
   "source": []
  },
  {
   "cell_type": "code",
   "execution_count": null,
   "id": "e567195f-cfa5-43b7-9b75-14a2f6bff2ca",
   "metadata": {},
   "outputs": [],
   "source": [
    "f"
   ]
  },
  {
   "cell_type": "code",
   "execution_count": null,
   "id": "245c1622-5ef3-4036-a9b2-bba97b7a62bb",
   "metadata": {},
   "outputs": [],
   "source": []
  },
  {
   "cell_type": "code",
   "execution_count": null,
   "id": "008fb294-cef4-4c99-93ed-7fef843c4bde",
   "metadata": {},
   "outputs": [],
   "source": []
  }
 ],
 "metadata": {
  "kernelspec": {
   "display_name": "Python 3 (ipykernel)",
   "language": "python",
   "name": "python3"
  },
  "language_info": {
   "codemirror_mode": {
    "name": "ipython",
    "version": 3
   },
   "file_extension": ".py",
   "mimetype": "text/x-python",
   "name": "python",
   "nbconvert_exporter": "python",
   "pygments_lexer": "ipython3",
   "version": "3.10.11"
  }
 },
 "nbformat": 4,
 "nbformat_minor": 5
}
